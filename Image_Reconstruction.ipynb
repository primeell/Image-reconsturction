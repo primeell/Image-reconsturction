{
  "nbformat": 4,
  "nbformat_minor": 0,
  "metadata": {
    "colab": {
      "provenance": [],
      "include_colab_link": true
    },
    "kernelspec": {
      "name": "python3",
      "display_name": "Python 3"
    },
    "gpuClass": "standard"
  },
  "cells": [
    {
      "cell_type": "markdown",
      "metadata": {
        "id": "view-in-github",
        "colab_type": "text"
      },
      "source": [
        "<a href=\"https://colab.research.google.com/github/primeell/Image-reconsturction/blob/main/Image_Reconstruction.ipynb\" target=\"_parent\"><img src=\"https://colab.research.google.com/assets/colab-badge.svg\" alt=\"Open In Colab\"/></a>"
      ]
    },
    {
      "cell_type": "code",
      "metadata": {
        "id": "fXC3jg8LRgDe"
      },
      "source": [
        "import os\n",
        "import torch\n",
        "import torchvision\n",
        "import torch.nn as nn\n",
        "import torchvision.transforms as transforms\n",
        "import torch.optim as optim\n",
        "import matplotlib.pyplot as plt\n",
        "import torch.nn.functional as F\n",
        "from torchvision import datasets\n",
        "from torch.utils.data import DataLoader\n",
        "from torchvision.utils import save_image\n",
        "from PIL import Image"
      ],
      "execution_count": null,
      "outputs": []
    },
    {
      "cell_type": "code",
      "metadata": {
        "id": "_6cYRcheUJ8U"
      },
      "source": [
        "NUM_EPOCHS = 100\n",
        "LEARNING_RATE = 1e-3\n",
        "BATCH_SIZE = 128"
      ],
      "execution_count": null,
      "outputs": []
    },
    {
      "cell_type": "code",
      "metadata": {
        "id": "zLYHCTISrlWB"
      },
      "source": [
        "# image transformations\n",
        "transform = transforms.Compose([\n",
        "    transforms.ToTensor(),\n",
        "    transforms.Normalize((0.5,), (0.5,))])"
      ],
      "execution_count": null,
      "outputs": []
    },
    {
      "cell_type": "code",
      "metadata": {
        "id": "Pcyk4GI6UMY8"
      },
      "source": [
        "trainset = datasets.MNIST(root='./data', train=True, download=True, transform=transform)\n",
        "testset = datasets.MNIST(root='./data', train=False, download=True, transform=transform)\n",
        "\n",
        "trainloader = DataLoader(trainset, batch_size=BATCH_SIZE, shuffle=True)\n",
        "testloader = DataLoader(testset, batch_size=BATCH_SIZE, shuffle=True)"
      ],
      "execution_count": null,
      "outputs": []
    },
    {
      "cell_type": "code",
      "source": [
        "trainset"
      ],
      "metadata": {
        "id": "mCdxAIY-yhbq"
      },
      "execution_count": null,
      "outputs": []
    },
    {
      "cell_type": "code",
      "metadata": {
        "id": "lJofH8GUUq5E"
      },
      "source": [
        "print(trainset)"
      ],
      "execution_count": null,
      "outputs": []
    },
    {
      "cell_type": "code",
      "metadata": {
        "id": "S6SzaPEqUepa"
      },
      "source": [
        "print(trainset.classes)"
      ],
      "execution_count": null,
      "outputs": []
    },
    {
      "cell_type": "code",
      "metadata": {
        "id": "mdS9SgBCUhja"
      },
      "source": [
        "# utility functions\n",
        "def get_device():\n",
        "    if torch.cuda.is_available():\n",
        "        device = 'cuda:0'\n",
        "    else:\n",
        "        device = 'cpu'\n",
        "    return device\n",
        "\n",
        "def make_dir():\n",
        "    image_dir = 'MNIST_Images'\n",
        "    if not os.path.exists(image_dir):\n",
        "        os.makedirs(image_dir)\n",
        "\n",
        "def save_decoded_image(img, epoch):\n",
        "    img = img.view(img.size(0), 1, 28, 28)\n",
        "    save_image(img, './MNIST_Images/linear_ae_image{}.png'.format(epoch))"
      ],
      "execution_count": null,
      "outputs": []
    },
    {
      "cell_type": "code",
      "metadata": {
        "id": "oc62alcmUtHL"
      },
      "source": [
        "class Autoencoder(nn.Module):\n",
        "    def __init__(self):\n",
        "        super(Autoencoder, self).__init__()\n",
        "\n",
        "        # encoder\n",
        "        self.enc1 = nn.Linear(in_features=784, out_features=256) # Input image (28*28 = 784)\n",
        "        self.enc2 = nn.Linear(in_features=256, out_features=128)\n",
        "        self.enc3 = nn.Linear(in_features=128, out_features=64)\n",
        "        self.enc4 = nn.Linear(in_features=64, out_features=32)\n",
        "        self.enc5 = nn.Linear(in_features=32, out_features=16)\n",
        "\n",
        "        # decoder\n",
        "        self.dec1 = nn.Linear(in_features=16, out_features=32)\n",
        "        self.dec2 = nn.Linear(in_features=32, out_features=64)\n",
        "        self.dec3 = nn.Linear(in_features=64, out_features=128)\n",
        "        self.dec4 = nn.Linear(in_features=128, out_features=256)\n",
        "        self.dec5 = nn.Linear(in_features=256, out_features=784) # Output image (28*28 = 784)\n",
        "\n",
        "    def forward(self, x):\n",
        "        x = F.relu(self.enc1(x))\n",
        "        x = F.relu(self.enc2(x))\n",
        "        x = F.relu(self.enc3(x))\n",
        "        x = F.relu(self.enc4(x))\n",
        "        x = F.relu(self.enc5(x))\n",
        "\n",
        "        x = F.relu(self.dec1(x))\n",
        "        x = F.relu(self.dec2(x))\n",
        "        x = F.relu(self.dec3(x))\n",
        "        x = F.relu(self.dec4(x))\n",
        "        x = F.relu(self.dec5(x))\n",
        "        return x"
      ],
      "execution_count": null,
      "outputs": []
    },
    {
      "cell_type": "code",
      "metadata": {
        "id": "4EHdA8baUyQ6"
      },
      "source": [
        "net = Autoencoder()\n",
        "print(net)"
      ],
      "execution_count": null,
      "outputs": []
    },
    {
      "cell_type": "code",
      "metadata": {
        "id": "VJ_RDRQXUzub"
      },
      "source": [
        "criterion = nn.MSELoss()\n",
        "optimizer = optim.Adam(net.parameters(), lr=LEARNING_RATE)"
      ],
      "execution_count": null,
      "outputs": []
    },
    {
      "cell_type": "code",
      "metadata": {
        "id": "FeCEAWftU3I6"
      },
      "source": [
        "def train(net, trainloader, NUM_EPOCHS):\n",
        "    train_loss = []\n",
        "    for epoch in range(NUM_EPOCHS):\n",
        "        running_loss = 0.0\n",
        "        for data in trainloader:\n",
        "            img, _ = data\n",
        "            img = img.to(device)\n",
        "            img = img.view(img.size(0), -1)\n",
        "            optimizer.zero_grad()\n",
        "            outputs = net(img)\n",
        "            loss = criterion(outputs, img)\n",
        "            loss.backward()\n",
        "            optimizer.step()\n",
        "            running_loss += loss.item()\n",
        "\n",
        "        loss = running_loss / len(trainloader)\n",
        "        train_loss.append(loss)\n",
        "        print('Epoch {} of {}, Train Loss: {:.3f}'.format(\n",
        "            epoch+1, NUM_EPOCHS, loss))\n",
        "\n",
        "        if epoch % 5 == 0:\n",
        "            save_decoded_image(outputs.cpu().data, epoch)\n",
        "\n",
        "    return train_loss\n",
        "\n",
        "def test_image_reconstruction(net, testloader):\n",
        "     for batch in testloader:\n",
        "        img, _ = batch\n",
        "        img = img.to(device)\n",
        "        img = img.view(img.size(0), -1)\n",
        "        outputs = net(img)\n",
        "        outputs = outputs.view(outputs.size(0), 1, 28, 28).cpu().data\n",
        "        save_image(outputs, 'MNIST_reconstruction.png')\n",
        "        break"
      ],
      "execution_count": null,
      "outputs": []
    },
    {
      "cell_type": "code",
      "metadata": {
        "id": "j10DH2kfU6gS"
      },
      "source": [
        "# get the computation device\n",
        "device = get_device()\n",
        "print(device)\n",
        "# load the neural network onto the device\n",
        "net.to(device)\n",
        "\n",
        "make_dir()\n",
        "\n",
        "# train the network\n",
        "train_loss = train(net, trainloader, NUM_EPOCHS)"
      ],
      "execution_count": null,
      "outputs": []
    },
    {
      "cell_type": "code",
      "metadata": {
        "id": "g9qbaKERVPeN"
      },
      "source": [
        "plt.figure()\n",
        "plt.plot(train_loss)\n",
        "plt.title('Train Loss')\n",
        "plt.xlabel('Epochs')\n",
        "plt.ylabel('Loss')\n",
        "plt.savefig('deep_ae_mnist_loss.png')"
      ],
      "execution_count": null,
      "outputs": []
    },
    {
      "cell_type": "code",
      "metadata": {
        "id": "uECWi3HvVRJy"
      },
      "source": [
        "# test the network\n",
        "test_image_reconstruction(net, testloader)"
      ],
      "execution_count": null,
      "outputs": []
    },
    {
      "cell_type": "code",
      "metadata": {
        "id": "YM9WnrVMdwFz"
      },
      "source": [
        "Image.open('/content/MNIST_Images/linear_ae_image0.png')"
      ],
      "execution_count": null,
      "outputs": []
    },
    {
      "cell_type": "code",
      "metadata": {
        "id": "oeraOXaDeoeS"
      },
      "source": [
        "Image.open('/content/MNIST_Images/linear_ae_image50.png')"
      ],
      "execution_count": null,
      "outputs": []
    },
    {
      "cell_type": "code",
      "metadata": {
        "id": "haqs0lebeqE5"
      },
      "source": [
        "Image.open('/content/MNIST_Images/linear_ae_image95.png')"
      ],
      "execution_count": null,
      "outputs": []
    },
    {
      "cell_type": "code",
      "metadata": {
        "id": "sYtUrLbDe4GR"
      },
      "source": [
        "Image.open('/content/MNIST_reconstruction.png')"
      ],
      "execution_count": null,
      "outputs": []
    }
  ]
}